{
 "cells": [
  {
   "cell_type": "code",
   "execution_count": 1,
   "id": "cf2eee02",
   "metadata": {},
   "outputs": [],
   "source": [
    "def solution(str1, str2):\n",
    "    str1 = [(str1[i]+str1[i+1]).lower() for i in range(len(str1)-1) if str.isalpha(str1[i]+str1[i+1]) is True]\n",
    "    str2 = [(str2[i]+str2[i+1]).lower() for i in range(len(str2)-1) if str.isalpha(str2[i]+str2[i+1]) is True]\n",
    "    intersection = []\n",
    "    union = []\n",
    "    for i in str1:\n",
    "        if i in str2:\n",
    "            intersection.append(i)  #합집합 추가\n",
    "            try:\n",
    "                str2.remove(i)  #교집합추가반복 방지 b1에서 삭제\n",
    "                union.append(i)  #교집합 추가\n",
    "            except:\n",
    "                pass\n",
    "    union = str1+str2\n",
    "    if len(union) == 0:\n",
    "        return 65536\n",
    "    return int(len(intersection)/len(union)*65536)"
   ]
  },
  {
   "cell_type": "code",
   "execution_count": null,
   "id": "c6b82451",
   "metadata": {},
   "outputs": [],
   "source": []
  }
 ],
 "metadata": {
  "kernelspec": {
   "display_name": "Python 3 (ipykernel)",
   "language": "python",
   "name": "python3"
  },
  "language_info": {
   "codemirror_mode": {
    "name": "ipython",
    "version": 3
   },
   "file_extension": ".py",
   "mimetype": "text/x-python",
   "name": "python",
   "nbconvert_exporter": "python",
   "pygments_lexer": "ipython3",
   "version": "3.9.7"
  }
 },
 "nbformat": 4,
 "nbformat_minor": 5
}
