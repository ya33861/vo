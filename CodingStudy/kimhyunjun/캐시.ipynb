{
 "cells": [
  {
   "cell_type": "code",
   "execution_count": 49,
   "id": "7d8f5b5c",
   "metadata": {},
   "outputs": [],
   "source": [
    "li = ['a','b','c','d','b','c','d','d']\n",
    "li = [i.lower() for i in li]"
   ]
  },
  {
   "cell_type": "code",
   "execution_count": 50,
   "id": "79cce7bd",
   "metadata": {},
   "outputs": [
    {
     "name": "stdout",
     "output_type": "stream",
     "text": [
      "c1 ['a'] 5\n",
      "c1 ['a', 'b'] 10\n",
      "c1 ['a', 'b', 'c'] 15\n",
      "c1 ['a', 'b', 'c', 'd'] 20\n",
      "['a', 'c', 'd', 'b'] 21\n",
      "['a', 'd', 'b', 'c'] 22\n",
      "['a', 'b', 'c', 'd'] 23\n",
      "['a', 'b', 'c', 'd'] 24\n"
     ]
    }
   ],
   "source": [
    "c=6\n",
    "answer = 0\n",
    "c_li = []\n",
    "while len(li) != 0:\n",
    "    if li[0] not in c_li:\n",
    "        c_li.append(li.pop(0))\n",
    "        answer+=5\n",
    "        if len(c_li)>c:\n",
    "            c_li.pop(0)\n",
    "        print('c1',c_li, answer)\n",
    "    else:\n",
    "        c_li.pop(c_li.index(li[0]))\n",
    "        c_li.append(li.pop(0))\n",
    "        answer+=1\n",
    "        print(c_li, answer)"
   ]
  },
  {
   "cell_type": "code",
   "execution_count": 44,
   "id": "f65d8ee4",
   "metadata": {},
   "outputs": [
    {
     "data": {
      "text/plain": [
       "0"
      ]
     },
     "execution_count": 44,
     "metadata": {},
     "output_type": "execute_result"
    }
   ],
   "source": [
    "c_li = ['a','b','c','d']\n",
    "li = ['b','c']\n",
    "li.index(li[0])"
   ]
  },
  {
   "cell_type": "code",
   "execution_count": 34,
   "id": "75f24668",
   "metadata": {},
   "outputs": [
    {
     "data": {
      "text/plain": [
       "60"
      ]
     },
     "execution_count": 34,
     "metadata": {},
     "output_type": "execute_result"
    }
   ],
   "source": [
    "answer"
   ]
  },
  {
   "cell_type": "code",
   "execution_count": 28,
   "id": "7a7fb76f",
   "metadata": {},
   "outputs": [
    {
     "data": {
      "text/plain": [
       "['jeju',\n",
       " 'pangyo',\n",
       " 'seoul',\n",
       " 'newyork',\n",
       " 'la',\n",
       " 'sanfrancisco',\n",
       " 'seoul',\n",
       " 'rome',\n",
       " 'paris',\n",
       " 'jeju',\n",
       " 'newyork',\n",
       " 'rome']"
      ]
     },
     "execution_count": 28,
     "metadata": {},
     "output_type": "execute_result"
    }
   ],
   "source": [
    "li"
   ]
  },
  {
   "cell_type": "code",
   "execution_count": 24,
   "id": "517a3852",
   "metadata": {},
   "outputs": [],
   "source": [
    "a = [1,2,3,4,5]\n",
    "a[a.index(3)], a[-1] = a[-1], a[a.index(3)]"
   ]
  },
  {
   "cell_type": "code",
   "execution_count": 25,
   "id": "14d99834",
   "metadata": {},
   "outputs": [
    {
     "data": {
      "text/plain": [
       "[1, 2, 5, 4, 3]"
      ]
     },
     "execution_count": 25,
     "metadata": {},
     "output_type": "execute_result"
    }
   ],
   "source": [
    "a"
   ]
  },
  {
   "cell_type": "code",
   "execution_count": 20,
   "id": "cbd23b7a",
   "metadata": {},
   "outputs": [
    {
     "data": {
      "text/plain": [
       "4"
      ]
     },
     "execution_count": 20,
     "metadata": {},
     "output_type": "execute_result"
    }
   ],
   "source": [
    "a = [1,1,1,1,3,4,3]\n",
    "a.index(3)"
   ]
  },
  {
   "cell_type": "code",
   "execution_count": 17,
   "id": "aa0aa4b3",
   "metadata": {},
   "outputs": [],
   "source": [
    "for i in li:\n",
    "    if i in c_li:\n",
    "        answer +=1\n",
    "        c_li[c_li.index(i)],c_li[-1] = c_li[-1],c_li[c_li.index(i)]\n",
    "    else:\n",
    "        answer +=5\n",
    "        c_li.pop(0)\n",
    "        c_li.append(i)\n",
    "    "
   ]
  },
  {
   "cell_type": "code",
   "execution_count": 18,
   "id": "a83439f7",
   "metadata": {},
   "outputs": [
    {
     "data": {
      "text/plain": [
       "60"
      ]
     },
     "execution_count": 18,
     "metadata": {},
     "output_type": "execute_result"
    }
   ],
   "source": [
    "answer"
   ]
  },
  {
   "cell_type": "code",
   "execution_count": 77,
   "id": "dc944111",
   "metadata": {},
   "outputs": [
    {
     "data": {
      "text/plain": [
       "['jeju', 'pangyo', 'seoul', 'jeju', 'pangyo', 'seoul']"
      ]
     },
     "execution_count": 77,
     "metadata": {},
     "output_type": "execute_result"
    }
   ],
   "source": [
    "li"
   ]
  },
  {
   "cell_type": "code",
   "execution_count": 78,
   "id": "0a24aba0",
   "metadata": {},
   "outputs": [
    {
     "data": {
      "text/plain": [
       "['jeju', 'pangyo', 'seoul']"
      ]
     },
     "execution_count": 78,
     "metadata": {},
     "output_type": "execute_result"
    }
   ],
   "source": [
    "c_li"
   ]
  },
  {
   "cell_type": "code",
   "execution_count": 79,
   "id": "69a98c1b",
   "metadata": {},
   "outputs": [
    {
     "data": {
      "text/plain": [
       "'jeju'"
      ]
     },
     "execution_count": 79,
     "metadata": {},
     "output_type": "execute_result"
    }
   ],
   "source": [
    "c_li.pop(0)"
   ]
  },
  {
   "cell_type": "code",
   "execution_count": 80,
   "id": "32794ff8",
   "metadata": {},
   "outputs": [
    {
     "data": {
      "text/plain": [
       "['pangyo', 'seoul']"
      ]
     },
     "execution_count": 80,
     "metadata": {},
     "output_type": "execute_result"
    }
   ],
   "source": [
    "c_li"
   ]
  },
  {
   "cell_type": "code",
   "execution_count": 63,
   "id": "793c212e",
   "metadata": {},
   "outputs": [
    {
     "data": {
      "text/plain": [
       "45"
      ]
     },
     "execution_count": 63,
     "metadata": {},
     "output_type": "execute_result"
    }
   ],
   "source": [
    "answer"
   ]
  },
  {
   "cell_type": "code",
   "execution_count": 70,
   "id": "01501bfe",
   "metadata": {},
   "outputs": [
    {
     "data": {
      "text/plain": [
       "True"
      ]
     },
     "execution_count": 70,
     "metadata": {},
     "output_type": "execute_result"
    }
   ],
   "source": [
    "i in c_li"
   ]
  },
  {
   "cell_type": "code",
   "execution_count": 93,
   "id": "a0578db5",
   "metadata": {},
   "outputs": [
    {
     "ename": "IndexError",
     "evalue": "list assignment index out of range",
     "output_type": "error",
     "traceback": [
      "\u001b[1;31m---------------------------------------------------------------------------\u001b[0m",
      "\u001b[1;31mIndexError\u001b[0m                                Traceback (most recent call last)",
      "\u001b[1;32mC:\\Users\\Public\\Documents\\ESTsoft\\CreatorTemp/ipykernel_19472/97368195.py\u001b[0m in \u001b[0;36m<module>\u001b[1;34m\u001b[0m\n\u001b[1;32m----> 1\u001b[1;33m \u001b[1;32mdel\u001b[0m \u001b[0mc_li\u001b[0m\u001b[1;33m[\u001b[0m\u001b[1;36m0\u001b[0m\u001b[1;33m]\u001b[0m\u001b[1;33m\u001b[0m\u001b[1;33m\u001b[0m\u001b[0m\n\u001b[0m",
      "\u001b[1;31mIndexError\u001b[0m: list assignment index out of range"
     ]
    }
   ],
   "source": [
    "del c_li[0]"
   ]
  },
  {
   "cell_type": "code",
   "execution_count": 92,
   "id": "946c232f",
   "metadata": {},
   "outputs": [
    {
     "data": {
      "text/plain": [
       "[]"
      ]
     },
     "execution_count": 92,
     "metadata": {},
     "output_type": "execute_result"
    }
   ],
   "source": [
    "c_li"
   ]
  },
  {
   "cell_type": "code",
   "execution_count": null,
   "id": "d510904e",
   "metadata": {},
   "outputs": [],
   "source": []
  }
 ],
 "metadata": {
  "kernelspec": {
   "display_name": "Python 3 (ipykernel)",
   "language": "python",
   "name": "python3"
  },
  "language_info": {
   "codemirror_mode": {
    "name": "ipython",
    "version": 3
   },
   "file_extension": ".py",
   "mimetype": "text/x-python",
   "name": "python",
   "nbconvert_exporter": "python",
   "pygments_lexer": "ipython3",
   "version": "3.9.7"
  }
 },
 "nbformat": 4,
 "nbformat_minor": 5
}
