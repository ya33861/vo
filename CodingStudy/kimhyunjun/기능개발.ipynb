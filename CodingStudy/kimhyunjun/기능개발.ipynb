{
 "cells": [
  {
   "cell_type": "code",
   "execution_count": 1,
   "id": "af9cd099",
   "metadata": {},
   "outputs": [],
   "source": [
    "def solution(progresses, speeds):\n",
    "    import math\n",
    "    days =[]\n",
    "    for i in range(len(progresses)):\n",
    "        days.append(math.ceil((100-progresses[i]) /speeds[i]))\n",
    "    a= days[0]\n",
    "    answer = [0]\n",
    "    for i in range(len(days)):\n",
    "        if a>=days[i]:\n",
    "            answer[-1] += 1\n",
    "        else:\n",
    "             answer.append(1)\n",
    "             a = days[i]\n",
    "    return answer"
   ]
  },
  {
   "cell_type": "code",
   "execution_count": null,
   "id": "8d3d97bf",
   "metadata": {},
   "outputs": [],
   "source": []
  }
 ],
 "metadata": {
  "kernelspec": {
   "display_name": "Python 3 (ipykernel)",
   "language": "python",
   "name": "python3"
  },
  "language_info": {
   "codemirror_mode": {
    "name": "ipython",
    "version": 3
   },
   "file_extension": ".py",
   "mimetype": "text/x-python",
   "name": "python",
   "nbconvert_exporter": "python",
   "pygments_lexer": "ipython3",
   "version": "3.9.7"
  }
 },
 "nbformat": 4,
 "nbformat_minor": 5
}
